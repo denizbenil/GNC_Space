{
 "cells": [
  {
   "cell_type": "markdown",
   "metadata": {},
   "source": [
    "### <span style=\"color:red\"> Earth-Moon CRTBP (Circular Restricted Three-Body Problem)</span>"
   ]
  },
  {
   "cell_type": "code",
   "execution_count": 1,
   "metadata": {},
   "outputs": [],
   "source": [
    "# Spacecraft Guidance and Navigation (2023/2024)\n",
    "# Author: Deniz Benil Gunay"
   ]
  },
  {
   "cell_type": "markdown",
   "metadata": {},
   "source": [
    "The 3D Restricted Three-Body Problem (3D CRTBP) is a problem in which two large masses rotate in a circular orbit and a third, massless or relatively low-mass object moves under the gravitational influence of these two masses.\n",
    "In this example, it is considered that Earth and Moon are two large masses, and third object is satellite. Queqiao Communications Satellite, China's communications satellite for the Chang'e 4 mission to the far side of the Moon, is placed in an orbit close to the Earth-Moon Lagrange point L2."
   ]
  },
  {
   "cell_type": "code",
   "execution_count": 11,
   "metadata": {},
   "outputs": [],
   "source": [
    "# Importing Libraries\n",
    "import matplotlib.pyplot as plt\n",
    "import numpy as np\n",
    "from scipy.optimize import fsolve"
   ]
  },
  {
   "cell_type": "code",
   "execution_count": 12,
   "metadata": {},
   "outputs": [],
   "source": [
    "# Plotting Features\n",
    "plt.rcParams['font.size'] = 11\n",
    "plt.rcParams['axes.labelsize'] = 11\n",
    "plt.rcParams['lines.linewidth'] = 1.5"
   ]
  },
  {
   "cell_type": "code",
   "execution_count": 13,
   "metadata": {},
   "outputs": [],
   "source": [
    "# µ is related to the mass ratio in the Earth and Moon system and thus the gravitational effect is calculated.\n",
    "# Rosales, J., R. Jorba, and Marc Jorba-Cuscó. \"Transfers from the Earth to L2 Halo Orbits in the Earth-Moon Bicircular Problem.\", April 30, 2021.\n",
    "mu = 0.012150581623433"
   ]
  },
  {
   "cell_type": "markdown",
   "metadata": {},
   "source": [
    "We use the potential function in the Circular Restricted Three-Body Problem (CBTP) model for several important reasons.\n",
    "Potential energy determines the amount of energy an object has in a force field.\n",
    "Under central forces such as gravitational forces, the potential energy function is a mathematical representation of the gravitational forces in a system and can be used to determine where and how a particle will move.\n",
    "In particular, the derivatives of the potential function help us understand the motion of a particle.\n",
    "\n",
    "1. Potential energy is a function of the gravitational forces, and potential energy changes as the distance between the two objects changes.\n",
    "\n",
    "2. The derivatives of the potential energy equal the gravitational force. F=−∇U(r)\n",
    "\n",
    "3. When the derivatives of the potential function (gravitational force) become zero, an equilibrium point (Lagrange-point) is obtained. These points represent the regions where the particle is being pulled by the two massive objects and **remains in balance**."
   ]
  },
  {
   "cell_type": "markdown",
   "metadata": {},
   "source": [
    "Potential Function\n",
    "$$\n",
    "U(x,y,z) = \\frac{1}{2} (x^2 + y^2) + \\frac{1-\\mu}{r_1} + \\frac{\\mu}{r_2}\n",
    "$$\n",
    "where,\n",
    "$$\n",
    "r_1 = \\sqrt{(x+\\mu)^2 + y^2 + z^2}\n",
    "$$\n",
    "$$\n",
    "r_2 = \\sqrt{(x - (1-\\mu))^2 + y^2 + z^2}\n",
    "$$\n",
    "x, y,z: These coordinates represent the position of a third body (for example, a satellite) in space.  \n",
    "r1: The distance of the third body to the larger body (for example, the Earth).  \n",
    "r2: The distance of the third body to the second larger body (for example, the Moon).  \n",
    "µ: The mass ratio of the second larger body (Moon) to the total mass (Earth and Moon). \n",
    "\n",
    "The condition y=0 and z=0 is based on the **symmetric structure of the CRTBP**, which allows the motion to be studied only along the x-axis. This simplification enables a more straightforward and practical solution for calculating the collinear Lagrange points. Under these conditions, the potential function and forces depend solely on the x-axis, making the problem easier to solve.\n",
    "\n",
    "$$\n",
    "r_1 = \\sqrt{(x+\\mu)^2 }\n",
    "$$\n",
    "$$\n",
    "r_2 = \\sqrt{(x - (1-\\mu))^2 }\n",
    "$$\n",
    "\n",
    "The derivation of the potantial function U(x, y, z) according to x to find gravitational force, and balance points where gravitational forces are zero.\n",
    "$$\n",
    "F(x) = x - \\frac{(1-\\mu)(x+\\mu)}{|x+\\mu|^3} - \\frac{\\mu(x+\\mu-1)}{|x+\\mu-1|^3}\n",
    "$$\n"
   ]
  },
  {
   "cell_type": "code",
   "execution_count": 44,
   "metadata": {},
   "outputs": [],
   "source": [
    "# Defining The Gradient of the Potential Function (U) with respect to (x)\n",
    "def fx(x):\n",
    "    return x - ((1 - mu) * (x + mu)) / abs(x + mu)**3 - mu * (x + mu - 1) / abs(x + mu - 1)**3"
   ]
  },
  {
   "cell_type": "code",
   "execution_count": 43,
   "metadata": {},
   "outputs": [],
   "source": [
    "# Initial Points\n",
    "xinterval = np.arange(-2, 2, 0.0001 * mu)  # Interval of x-axis\n",
    "x0_L1 = 1\n",
    "x0_L2 = 0\n",
    "x0_L3 = -1"
   ]
  },
  {
   "cell_type": "code",
   "execution_count": null,
   "metadata": {},
   "outputs": [],
   "source": [
    "# The roots are the points where the function f(x) is zero, and these zero points represent the equilibrium points of the Earth-Moon Binary System.\n",
    "# Therefore, we find the roots of the equations for the Lagrange points (L1, L2, L3).\n",
    "xL1 = fsolve(fx, x0_L1)[0]  # L1 Point\n",
    "xL2 = fsolve(fx, x0_L2)[0]  # L2 Point\n",
    "xL3 = fsolve(fx, x0_L3)[0]  # L3 Point\n"
   ]
  },
  {
   "cell_type": "code",
   "execution_count": 46,
   "metadata": {},
   "outputs": [
    {
     "name": "stdout",
     "output_type": "stream",
     "text": [
      "[-1.74864827 -1.74864675 -1.74864523 ...  1.74414684  1.74414838\n",
      "  1.74414991]\n"
     ]
    }
   ],
   "source": [
    "# dU/dx is the array that keeps the all x in Partial Diffential Function (f(x)) of Potential Function U with respect to x.\n",
    "dUdx = np.array([fx(x) for x in xinterval])\n",
    "# The code in this line calculates the fx(x) function for each x value.\n",
    "# np.array([fx(x) for x in interval]): This line applies the fx(x) function for each x value in the given interval x and stores the result as a NumPy array.\n",
    "print(dUdx)"
   ]
  },
  {
   "cell_type": "code",
   "execution_count": 1,
   "metadata": {},
   "outputs": [
    {
     "ename": "NameError",
     "evalue": "name 'plt' is not defined",
     "output_type": "error",
     "traceback": [
      "\u001b[1;31m---------------------------------------------------------------------------\u001b[0m",
      "\u001b[1;31mNameError\u001b[0m                                 Traceback (most recent call last)",
      "Cell \u001b[1;32mIn[1], line 2\u001b[0m\n\u001b[0;32m      1\u001b[0m \u001b[38;5;66;03m# Plotting\u001b[39;00m\n\u001b[1;32m----> 2\u001b[0m \u001b[43mplt\u001b[49m\u001b[38;5;241m.\u001b[39mfigure(figsize\u001b[38;5;241m=\u001b[39m(\u001b[38;5;241m8\u001b[39m, \u001b[38;5;241m5\u001b[39m))\n\u001b[0;32m      3\u001b[0m plt\u001b[38;5;241m.\u001b[39mplot(xinterval, dUdx, \u001b[38;5;124m'\u001b[39m\u001b[38;5;124m.\u001b[39m\u001b[38;5;124m'\u001b[39m, color\u001b[38;5;241m=\u001b[39m\u001b[38;5;124m'\u001b[39m\u001b[38;5;124mk\u001b[39m\u001b[38;5;124m'\u001b[39m, label\u001b[38;5;241m=\u001b[39m\u001b[38;5;124mr\u001b[39m\u001b[38;5;124m'\u001b[39m\u001b[38;5;124m$\u001b[39m\u001b[38;5;124m\\\u001b[39m\u001b[38;5;124mfrac\u001b[39m\u001b[38;5;124m{\u001b[39m\u001b[38;5;124m\\\u001b[39m\u001b[38;5;124mpartial U}\u001b[39m\u001b[38;5;124m{\u001b[39m\u001b[38;5;124m\\\u001b[39m\u001b[38;5;124mpartial x}(x)$\u001b[39m\u001b[38;5;124m'\u001b[39m)\n\u001b[0;32m      5\u001b[0m \u001b[38;5;66;03m# Plot Earth and Moon\u001b[39;00m\n",
      "\u001b[1;31mNameError\u001b[0m: name 'plt' is not defined"
     ]
    }
   ],
   "source": [
    "# Plotting\n",
    "plt.figure(figsize=(8, 5))\n",
    "plt.plot(xinterval, dUdx, '.', color='k', label=r'$\\frac{\\partial U}{\\partial x}(x)$')\n",
    "\n",
    "# Plot Earth and Moon\n",
    "plt.plot(-mu, 0, 'o', linewidth=9, color=[0.2010, 0.7000, 1])\n",
    "plt.text(-mu, 1.5, 'Earth', verticalalignment='bottom', horizontalalignment='center')\n",
    "plt.plot(1 - mu, 0, 'o', linewidth=4.75, color=[0.8, 0.8, 0.8])\n",
    "plt.text(1 - mu, 1.5, 'Moon', verticalalignment='bottom', horizontalalignment='center')\n",
    "\n",
    "# Plot Lagrange points\n",
    "plt.plot(xL1, 0, 'o', color=[0.2000, 0.4000, 0.8000], linewidth=3)\n",
    "plt.text(xL1, -1.5, r'$L_2$', verticalalignment='top', horizontalalignment='center')\n",
    "\n",
    "plt.plot(xL2, 0, 'o', color=[0.5500, 0.5300, 0.9500], linewidth=3)\n",
    "plt.text(xL2, -1.5, r'$L_1$', verticalalignment='top', horizontalalignment='left')\n",
    "\n",
    "plt.plot(xL3, 0, 'o', color=[0.3000, 0.1000, 0.6000], linewidth=3)\n",
    "plt.text(xL3, -1.5, r'$L_3$', verticalalignment='top', horizontalalignment='center')\n",
    "\n",
    "# Set plot limits and labels\n",
    "plt.ylim([-50, 50])\n",
    "plt.xlabel('x [-]')\n",
    "plt.ylabel(r'$\\frac{\\partial U}{\\partial x}$ [-]', rotation=0, fontsize=11)\n",
    "plt.title('Lagrange Points in the Earth-Moon Adimensional Rotating Frame', fontsize=11, fontname='Times New Roman')\n",
    "plt.grid(True)\n",
    "\n",
    "# Add legend\n",
    "plt.legend([r'$\\frac{\\partial U}{\\partial x}(x)$', 'Earth', 'Moon', '$L_1$', '$L_2$', '$L_3$'], loc='best', frameon=False)\n",
    "\n",
    "# Show plot\n",
    "plt.show()"
   ]
  },
  {
   "cell_type": "markdown",
   "metadata": {},
   "source": [
    "The **\\( dUdx \\)** array holds the results of the function **\\( f(x) \\)**, which is the derivative of the potential energy with respect to **\\( x \\)**.  These results are calculated for each value of (x) within the (x) interval. The black dots represent the graphical display of these derivative values of potential function according to its x values.\n",
    "\n",
    "\n",
    "In our function, we are looking for points where the dUdx value is zero. This means that the gravitational forces acting on the object from the Earth and the Moon are balanced at these positions, and the object is not experiencing a net force.\n",
    "The roots of the f(x) function correspond to the equilibrium points where the gravitational forces between the Earth and the Moon are balanced. At these points, the object experiences no net force and remains in a stable configuration.\n",
    "\n",
    "<span style=\"color:red\">L1</span> :Located on the line between the Earth and the Moon and is ideal for observing interactions between the Sun, Earth and the Moon. Used for space exploration and **solar system observations**\n",
    "\n",
    "<span style=\"color:red\">L2</span> : Located opposite the Earth and the Moon and is suitable for **deep space observations**, **cosmic microwave background (CMB) studies** and **dark matter** studies.\n",
    "\n",
    "<span style=\"color:red\">L3</span>: Located directly opposite the line between the Earth and the Moon and is generally used for **theoretical research** and modeling, but is **not very common in practical applications.**"
   ]
  }
 ],
 "metadata": {
  "kernelspec": {
   "display_name": "Python 3",
   "language": "python",
   "name": "python3"
  },
  "language_info": {
   "codemirror_mode": {
    "name": "ipython",
    "version": 3
   },
   "file_extension": ".py",
   "mimetype": "text/x-python",
   "name": "python",
   "nbconvert_exporter": "python",
   "pygments_lexer": "ipython3",
   "version": "3.13.0"
  }
 },
 "nbformat": 4,
 "nbformat_minor": 2
}
